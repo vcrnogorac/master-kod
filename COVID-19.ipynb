{
 "cells": [
  {
   "cell_type": "markdown",
   "metadata": {},
   "source": [
    "# Klasterizacija"
   ]
  },
  {
   "cell_type": "code",
   "execution_count": 88,
   "metadata": {},
   "outputs": [],
   "source": [
    "from sklearn.linear_model import LinearRegression\n",
    "from sklearn.cluster import KMeans, AgglomerativeClustering\n",
    "import pandas as pd\n",
    "import numpy as np\n",
    "import random"
   ]
  },
  {
   "cell_type": "code",
   "execution_count": 89,
   "metadata": {},
   "outputs": [],
   "source": [
    "dataOriginal = pd.read_csv(\"owid-covid-data.csv\")\n",
    "dataKlaster = data.fillna(0)\n",
    "\n",
    "dataKlaster = dataKlaster[dataKlaster.total_cases != 0]    #ignorisemo sve drzave koje dosad nemaju zarazenih"
   ]
  },
  {
   "cell_type": "code",
   "execution_count": 90,
   "metadata": {},
   "outputs": [
    {
     "name": "stdout",
     "output_type": "stream",
     "text": [
      "54\n"
     ]
    }
   ],
   "source": [
    "table_columns = dataKlaster.columns\n",
    "help_dictionary = {}\n",
    "\n",
    "datumi = dataKlaster['date'].drop_duplicates()\n",
    "datumi.sort_values(inplace=True)\n",
    "\n",
    "# kreiramo pomocni rjecnik koji kao kljuc ima naziv atributa \n",
    "# a kao vrijednost listu prosjecnih vrijednosti navedenog atribuda za svaki dan.\n",
    "# Ovom prilikom se ignorisu drzave koje dosad nisu imale zarazenih slucajeva\n",
    "for col in table_columns:\n",
    "    if col in ['iso_code', 'continent', 'location', 'date', 'tests_units']:\n",
    "        continue\n",
    "    help_dictionary[col] = []\n",
    "        \n",
    "for datum in datumi:\n",
    "    datum_podaci = dataKlaster[dataKlaster.date==datum]\n",
    "    for col in table_columns:\n",
    "        if col in ['iso_code', 'continent', 'location', 'date', 'tests_units']:\n",
    "            continue\n",
    "        prosjek = datum_podaci[col].mean()\n",
    "        help_dictionary[col].append(prosjek)\n",
    "\n",
    "print(len(help_dictionary.keys()))"
   ]
  },
  {
   "cell_type": "code",
   "execution_count": 91,
   "metadata": {},
   "outputs": [],
   "source": [
    "# u datoteku koreloracija.csv upisujemo korelacionu matricu\n",
    "\n",
    "s = \"KOLONE,\"\n",
    "\n",
    "for col in table_columns:\n",
    "    if col in ['iso_code', 'continent', 'location', 'date', 'tests_units']:\n",
    "        continue\n",
    "    s +=\"%s,\" % col \n",
    "\n",
    "for col in table_columns:\n",
    "    if col in ['iso_code', 'continent', 'location', 'date', 'tests_units']:\n",
    "        continue\n",
    "    s += \"\\n%s,\" % col\n",
    "    x = np.array(help_dictionary[col]).reshape((-1, 1))\n",
    "    for col2 in table_columns:\n",
    "        if col2 in ['iso_code', 'continent', 'location', 'date', 'tests_units']:\n",
    "            continue\n",
    "        if col == col2:\n",
    "            s += \",\"\n",
    "            continue\n",
    "        y = np.array(help_dictionary[col2])\n",
    "\n",
    "        model = LinearRegression().fit(x, y)\n",
    "        s += '%.3f,' % model.coef_\n",
    "\n",
    "with open('koreloracija.csv', 'w') as f:\n",
    "    f.write(s)"
   ]
  },
  {
   "cell_type": "code",
   "execution_count": 92,
   "metadata": {},
   "outputs": [
    {
     "name": "stdout",
     "output_type": "stream",
     "text": [
      "Kolone koje se ignorisu\n",
      "--------------------------------------------------\n",
      "iso_code\n",
      "continent\n",
      "location\n",
      "date\n",
      "tests_units\n",
      "new_cases_smoothed\n",
      "tests_per_case\n",
      "gdp_per_capita\n",
      "new_tests\n",
      "new_tests_smoothed\n",
      "new_deaths_smoothed\n",
      "new_cases_per_million\n",
      "new_cases_smoothed_per_million\n",
      "icu_patients\n",
      "weekly_icu_admissions_per_million\n",
      "total_tests_per_thousand\n",
      "stringency_index\n",
      "population_density\n",
      "new_deaths_smoothed_per_million\n",
      "people_vaccinated_per_hundred\n",
      "hospital_beds_per_thousand\n",
      "median_age\n",
      "aged_65_older\n",
      "female_smokers\n",
      "male_smokers\n",
      "weekly_hosp_admissions_per_million\n",
      "new_tests_smoothed_per_thousand\n",
      "total_vaccinations_per_hundred\n",
      "diabetes_prevalence\n",
      "new_vaccinations_smoothed\n",
      "cardiovasc_death_rate\n",
      "handwashing_facilities\n",
      "life_expectancy\n",
      "\n",
      "\n",
      "\n",
      "Kolone koje se koriste prilikom klasterizacije:\n",
      "--------------------------------------------------\n",
      "total_cases\n",
      "new_cases\n",
      "total_deaths\n",
      "new_deaths\n",
      "total_cases_per_million\n",
      "total_deaths_per_million\n",
      "new_deaths_per_million\n",
      "reproduction_rate\n",
      "icu_patients_per_million\n",
      "hosp_patients\n",
      "hosp_patients_per_million\n",
      "weekly_icu_admissions\n",
      "weekly_hosp_admissions\n",
      "total_tests\n",
      "new_tests_per_thousand\n",
      "positive_rate\n",
      "total_vaccinations\n",
      "people_vaccinated\n",
      "people_fully_vaccinated\n",
      "new_vaccinations\n",
      "people_fully_vaccinated_per_hundred\n",
      "new_vaccinations_smoothed_per_million\n",
      "population\n",
      "aged_70_older\n",
      "extreme_poverty\n",
      "human_development_index\n"
     ]
    }
   ],
   "source": [
    "# filtriramo sve ficere koji su u koreloraciji sa nekim od ficera\n",
    "ignore_columns = ['iso_code', 'continent', 'location', 'date', 'tests_units']\n",
    "d = len(table_columns)\n",
    "    \n",
    "for i in range(d-1):\n",
    "    col = table_columns[i]\n",
    "    if col in ignore_columns:\n",
    "        continue\n",
    "    y = np.array(help_dictionary[col])\n",
    "    for j in range(i+1, d):\n",
    "        col2 = table_columns[j]\n",
    "        if col2 in ignore_columns:\n",
    "            continue\n",
    "        x = np.array(help_dictionary[col2]).reshape((-1, 1))\n",
    "        model = LinearRegression().fit(x, y)\n",
    "        if (model.coef_ > 0.7 and model.coef_ < 1.25) or (model.coef_ < -0.7 and model.coef_ > -1.25):\n",
    "            ignore_columns.append(col2)\n",
    "\n",
    "\n",
    "print(\"Kolone koje se ignorisu\")\n",
    "print(\"-\"*50)\n",
    "for f in ignore_columns:\n",
    "    print(f)\n",
    "print(\"\\n\" * 2)\n",
    "print(\"Kolone koje se koriste prilikom klasterizacije:\")\n",
    "print(\"-\"*50)\n",
    "for col in table_columns:\n",
    "    if col not in ignore_columns:\n",
    "        print(col)"
   ]
  },
  {
   "cell_type": "code",
   "execution_count": 93,
   "metadata": {},
   "outputs": [],
   "source": [
    "drzave = dict()\n",
    "table_columns = [col for col in table_columns if col not in ignore_columns]\n",
    "\n",
    "#for d_ in data.rows:\n",
    "#    print(d_)\n",
    "\n",
    "lista_drzava = list(set(dataKlaster['iso_code']))\n",
    "lista_drzava = [drzava for drzava in lista_drzava if not drzava.startswith(\"OWID_\")]\n",
    "#lista_drzava.remove('OWID_AFR')\n",
    "#lista_drzava.remove('OWID_ASI')\n",
    "#lista_drzava.remove('OWID_WRL')\n",
    "#lista_drzava.remove('OWID_EUN')\n",
    "#lista_drzava.remove('OWID_EUR')\n",
    "#lista_drzava.remove('OWID_KOS')\n",
    "#lista_drzava.remove('OWID_INT')\n",
    "#lista_drzava.remove('OWID_NAM')\n",
    "#lista_drzava.remove('OWID_OCE')\n",
    "#lista_drzava.remove('OWID_SAM')\n",
    "\n",
    "for drzava in lista_drzava:\n",
    "    select_color = data.loc[dataKlaster['iso_code'] == drzava]\n",
    "    drzave[drzava] = {}\n",
    "    for col in table_columns:\n",
    "        drzave[drzava][col] = select_color[col]\n"
   ]
  },
  {
   "cell_type": "code",
   "execution_count": 94,
   "metadata": {},
   "outputs": [],
   "source": [
    "def agglomerative_klasterizacija(ListaPodataka, brojKlastera=4):\n",
    "  agglomeratives = AgglomerativeClustering(n_clusters=brojKlastera).fit(ListaPodataka)\n",
    "  return agglomeratives"
   ]
  },
  {
   "cell_type": "code",
   "execution_count": 95,
   "metadata": {},
   "outputs": [],
   "source": [
    "def getKlasteri(listaDrzava, listaKlastera):\n",
    "  klasteri = dict()\n",
    "  for idx, drzava in enumerate(listaDrzava):\n",
    "    klaster = listaKlastera[idx]\n",
    "    if klaster in klasteri:\n",
    "      klasteri[klaster].append(drzava)\n",
    "    else:\n",
    "      klasteri[klaster] = [drzava]\n",
    "  return klasteri"
   ]
  },
  {
   "cell_type": "code",
   "execution_count": 96,
   "metadata": {
    "scrolled": true
   },
   "outputs": [],
   "source": [
    "def klasterizacijaPoAtributu(atribut, brojKlastera=0):\n",
    "    if atribut not in table_columns:\n",
    "        print(\"uneeni atribut se ne nalazi u skuou nekorelacionih atributa\")\n",
    "        return None\n",
    "    podaci = []\n",
    "    maksimalna_duzina = max([len(drzave[drzava][atribut]) for drzava in lista_drzava ])\n",
    "    for drzava in lista_drzava:\n",
    "        l = drzave[drzava][atribut].tolist()\n",
    "        avg = sum(l)/len(l)\n",
    "        l1 = [avg] * (maksimalna_duzina - len(l))\n",
    "        l.extend(l1)\n",
    "        podaci.append(l)\n",
    "    \n",
    "    if brojKlastera > 0:\n",
    "        agglomerative = agglomerative_klasterizacija(podaci, brojKlastera)\n",
    "        listaKlastera = agglomerative.labels_\n",
    "        drzaveKlasteri = getKlasteri(lista_drzava, listaKlastera)\n",
    "        return drzaveKlasteri\n",
    "\n",
    "    for k in range(4, 7):\n",
    "        agglomerative = agglomerative_klasterizacija(podaci, k)\n",
    "        print()\n",
    "        print(\"K =\", k)\n",
    "        listaKlastera = agglomerative.labels_\n",
    "        km = getKlasteri(lista_drzava, listaKlastera)\n",
    "        for klaster, lista in km.items():\n",
    "          print(klaster, \":\", lista)\n"
   ]
  },
  {
   "cell_type": "code",
   "execution_count": 97,
   "metadata": {},
   "outputs": [
    {
     "name": "stdout",
     "output_type": "stream",
     "text": [
      "\n",
      "K = 4\n",
      "0 : ['SDN', 'NER', 'MHL', 'FIN', 'GHA', 'MWI', 'DMA', 'KAZ', 'NOR', 'DZA', 'SAU', 'ERI', 'JAM', 'ZMB', 'MNG', 'PHL', 'TGO', 'CAF', 'BEN', 'IRN', 'BRB', 'TUR', 'MRT', 'DOM', 'GRD', 'SYR', 'TCD', 'LSO', 'BHR', 'KWT', 'JOR', 'MDV', 'NLD', 'GNB', 'MOZ', 'BLR', 'VAT', 'JPN', 'AFG', 'IRQ', 'CUB', 'QAT', 'BWA', 'CIV', 'YEM', 'AUS', 'PRY', 'FJI', 'COM', 'MLI', 'KNA', 'VNM', 'ECU', 'VUT', 'GNQ', 'PNG', 'TZA', 'URY', 'KEN', 'RUS', 'VCT', 'CAN', 'GIN', 'SEN', 'SOM', 'EST', 'IND', 'LBY', 'MAR', 'FSM', 'MUS', 'RWA', 'NZL', 'SLE', 'LBR', 'GMB', 'BDI', 'MMR', 'LAO', 'NGA', 'CMR', 'THA', 'STP', 'BGD', 'KHM', 'ETH', 'GTM', 'VEN', 'ISR', 'AZE', 'MDG', 'NAM', 'ALB', 'KOR', 'GAB', 'TJK', 'COD', 'ATG', 'DNK', 'SLV', 'BFA', 'UGA', 'BTN', 'EGY', 'ISL', 'CPV', 'NPL', 'PAK', 'SUR', 'TWN', 'UZB', 'UKR', 'ZWE', 'CHN', 'BRN', 'DJI', 'HTI', 'MYS', 'BHS', 'LKA', 'TLS', 'TTO', 'SLB', 'LCA', 'ARE', 'AGO', 'IDN', 'SYC', 'SSD', 'CYP', 'KGZ', 'CRI', 'PSE', 'WSM', 'OMN', 'SGP', 'COG', 'HND', 'NIC', 'GUY']\n",
      "1 : ['LBN', 'CHE', 'ESP', 'DEU', 'LUX', 'SVK', 'MEX', 'BLZ', 'MDA', 'BEL', 'SRB', 'CHL', 'MCO', 'HRV', 'TUN', 'MKD', 'CZE', 'GEO', 'SWZ', 'BOL', 'MNE', 'AUT', 'ITA', 'ZAF', 'POL', 'BIH', 'BGR', 'MLT', 'ARG', 'LTU', 'GRC', 'SWE', 'GBR', 'SVN', 'PER', 'ARM', 'USA', 'IRL', 'LVA', 'ROU', 'FRA', 'BRA', 'PAN', 'AND', 'COL', 'HUN', 'PRT']\n",
      "3 : ['LIE']\n",
      "2 : ['SMR']\n",
      "\n",
      "K = 5\n",
      "1 : ['SDN', 'NER', 'MHL', 'FIN', 'GHA', 'MWI', 'DMA', 'KAZ', 'NOR', 'DZA', 'SAU', 'ERI', 'JAM', 'ZMB', 'MNG', 'PHL', 'TGO', 'CAF', 'BEN', 'IRN', 'BRB', 'TUR', 'MRT', 'DOM', 'GRD', 'SYR', 'TCD', 'LSO', 'BHR', 'KWT', 'JOR', 'MDV', 'NLD', 'GNB', 'MOZ', 'BLR', 'VAT', 'JPN', 'AFG', 'IRQ', 'CUB', 'QAT', 'BWA', 'CIV', 'YEM', 'AUS', 'PRY', 'FJI', 'COM', 'MLI', 'KNA', 'VNM', 'VUT', 'GNQ', 'PNG', 'TZA', 'URY', 'KEN', 'RUS', 'VCT', 'CAN', 'GIN', 'SEN', 'SOM', 'EST', 'IND', 'LBY', 'MAR', 'FSM', 'MUS', 'RWA', 'NZL', 'SLE', 'LBR', 'GMB', 'BDI', 'MMR', 'LAO', 'NGA', 'CMR', 'THA', 'STP', 'BGD', 'KHM', 'ETH', 'GTM', 'VEN', 'ISR', 'AZE', 'MDG', 'NAM', 'ALB', 'KOR', 'GAB', 'TJK', 'COD', 'ATG', 'DNK', 'SLV', 'BFA', 'UGA', 'BTN', 'EGY', 'ISL', 'CPV', 'NPL', 'PAK', 'SUR', 'TWN', 'UZB', 'UKR', 'ZWE', 'CHN', 'BRN', 'DJI', 'HTI', 'MYS', 'BHS', 'LKA', 'TLS', 'TTO', 'SLB', 'LCA', 'ARE', 'AGO', 'IDN', 'SYC', 'SSD', 'CYP', 'KGZ', 'CRI', 'PSE', 'WSM', 'OMN', 'SGP', 'COG', 'HND', 'NIC', 'GUY']\n",
      "0 : ['LBN', 'CHE', 'ESP', 'DEU', 'LUX', 'SVK', 'MEX', 'BLZ', 'MDA', 'BEL', 'SRB', 'CHL', 'MCO', 'HRV', 'TUN', 'MKD', 'CZE', 'GEO', 'SWZ', 'BOL', 'MNE', 'AUT', 'ITA', 'ZAF', 'POL', 'BIH', 'BGR', 'MLT', 'ARG', 'LTU', 'GRC', 'SWE', 'GBR', 'SVN', 'PER', 'ARM', 'USA', 'IRL', 'LVA', 'ROU', 'FRA', 'BRA', 'PAN', 'AND', 'COL', 'HUN', 'PRT']\n",
      "3 : ['LIE']\n",
      "4 : ['ECU']\n",
      "2 : ['SMR']\n",
      "\n",
      "K = 6\n",
      "1 : ['SDN', 'NER', 'MHL', 'FIN', 'GHA', 'MWI', 'DMA', 'KAZ', 'NOR', 'DZA', 'SAU', 'ERI', 'JAM', 'ZMB', 'MNG', 'PHL', 'TGO', 'CAF', 'BEN', 'IRN', 'BRB', 'TUR', 'MRT', 'DOM', 'GRD', 'SYR', 'TCD', 'LSO', 'BHR', 'KWT', 'JOR', 'MDV', 'NLD', 'GNB', 'MOZ', 'BLR', 'VAT', 'JPN', 'AFG', 'IRQ', 'CUB', 'QAT', 'BWA', 'CIV', 'YEM', 'AUS', 'PRY', 'FJI', 'COM', 'MLI', 'KNA', 'VNM', 'VUT', 'GNQ', 'PNG', 'TZA', 'URY', 'KEN', 'RUS', 'VCT', 'CAN', 'GIN', 'SEN', 'SOM', 'EST', 'IND', 'LBY', 'MAR', 'FSM', 'MUS', 'RWA', 'NZL', 'SLE', 'LBR', 'GMB', 'BDI', 'MMR', 'LAO', 'NGA', 'CMR', 'THA', 'STP', 'BGD', 'KHM', 'ETH', 'GTM', 'VEN', 'ISR', 'AZE', 'MDG', 'NAM', 'ALB', 'KOR', 'GAB', 'TJK', 'COD', 'ATG', 'DNK', 'SLV', 'BFA', 'UGA', 'BTN', 'EGY', 'ISL', 'CPV', 'NPL', 'PAK', 'SUR', 'TWN', 'UZB', 'UKR', 'ZWE', 'CHN', 'BRN', 'DJI', 'HTI', 'MYS', 'BHS', 'LKA', 'TLS', 'TTO', 'SLB', 'LCA', 'ARE', 'AGO', 'IDN', 'SYC', 'SSD', 'CYP', 'KGZ', 'CRI', 'PSE', 'WSM', 'OMN', 'SGP', 'COG', 'HND', 'NIC', 'GUY']\n",
      "0 : ['LBN', 'ESP', 'DEU', 'LUX', 'SVK', 'MEX', 'BLZ', 'MDA', 'BEL', 'SRB', 'CHL', 'MCO', 'TUN', 'GEO', 'SWZ', 'BOL', 'AUT', 'ITA', 'ZAF', 'MLT', 'ARG', 'GRC', 'SWE', 'GBR', 'PER', 'ARM', 'USA', 'IRL', 'LVA', 'ROU', 'FRA', 'BRA', 'PAN', 'AND', 'COL', 'PRT']\n",
      "2 : ['CHE', 'HRV', 'MKD', 'CZE', 'MNE', 'POL', 'BIH', 'BGR', 'LTU', 'SVN', 'HUN']\n",
      "3 : ['LIE']\n",
      "4 : ['ECU']\n",
      "5 : ['SMR']\n"
     ]
    }
   ],
   "source": [
    "klasterizacijaPoAtributu(\"new_deaths_per_million\")"
   ]
  },
  {
   "cell_type": "code",
   "execution_count": 98,
   "metadata": {
    "scrolled": true
   },
   "outputs": [
    {
     "name": "stdout",
     "output_type": "stream",
     "text": [
      "\n",
      "K = 4\n",
      "3 : ['SDN', 'NER', 'MHL', 'FIN', 'GHA', 'LBN', 'MWI', 'DMA', 'KAZ', 'NOR', 'DZA', 'SAU', 'ERI', 'JAM', 'ZMB', 'MNG', 'CHE', 'PHL', 'TGO', 'CAF', 'BEN', 'IRN', 'BRB', 'TUR', 'LIE', 'MRT', 'DOM', 'GRD', 'DEU', 'SYR', 'TCD', 'LSO', 'BHR', 'KWT', 'JOR', 'MDV', 'MEX', 'GNB', 'MOZ', 'BLZ', 'BLR', 'VAT', 'MDA', 'JPN', 'AFG', 'IRQ', 'CUB', 'QAT', 'BWA', 'CIV', 'SRB', 'YEM', 'AUS', 'PRY', 'FJI', 'CHL', 'MCO', 'COM', 'MLI', 'TUN', 'KNA', 'VNM', 'ECU', 'VUT', 'MKD', 'GNQ', 'PNG', 'TZA', 'URY', 'KEN', 'GEO', 'RUS', 'VCT', 'SWZ', 'SMR', 'GIN', 'SEN', 'SOM', 'BOL', 'IND', 'LBY', 'MAR', 'FSM', 'MUS', 'MNE', 'RWA', 'NZL', 'SLE', 'LBR', 'GMB', 'ZAF', 'BDI', 'MMR', 'LAO', 'NGA', 'CMR', 'THA', 'STP', 'BGD', 'KHM', 'ETH', 'GTM', 'BIH', 'VEN', 'AZE', 'MLT', 'MDG', 'NAM', 'ALB', 'ARG', 'GRC', 'KOR', 'GAB', 'TJK', 'COD', 'PER', 'ATG', 'ARM', 'SLV', 'BFA', 'UGA', 'BTN', 'EGY', 'CPV', 'NPL', 'PAK', 'SUR', 'TWN', 'UZB', 'UKR', 'ZWE', 'CHN', 'BRN', 'DJI', 'HTI', 'MYS', 'BHS', 'LKA', 'ROU', 'TLS', 'TTO', 'SLB', 'LCA', 'ARE', 'AGO', 'BRA', 'IDN', 'PAN', 'SYC', 'SSD', 'KGZ', 'CRI', 'AND', 'PSE', 'WSM', 'COL', 'OMN', 'SGP', 'COG', 'HND', 'NIC', 'GUY']\n",
      "2 : ['ESP', 'LUX', 'NLD', 'BEL', 'CAN', 'EST', 'AUT', 'ISR', 'DNK', 'IRL', 'ISL', 'CYP']\n",
      "0 : ['SVK', 'HRV', 'CZE', 'POL', 'BGR', 'LTU', 'SVN', 'LVA', 'HUN', 'PRT']\n",
      "1 : ['ITA', 'SWE', 'GBR', 'USA', 'FRA']\n",
      "\n",
      "K = 5\n",
      "3 : ['SDN', 'NER', 'MHL', 'FIN', 'GHA', 'LBN', 'MWI', 'DMA', 'KAZ', 'NOR', 'DZA', 'SAU', 'ERI', 'JAM', 'ZMB', 'MNG', 'CHE', 'PHL', 'TGO', 'CAF', 'BEN', 'IRN', 'BRB', 'TUR', 'LIE', 'MRT', 'DOM', 'GRD', 'DEU', 'SYR', 'TCD', 'LSO', 'BHR', 'KWT', 'JOR', 'MDV', 'MEX', 'GNB', 'MOZ', 'BLZ', 'BLR', 'VAT', 'MDA', 'JPN', 'AFG', 'IRQ', 'CUB', 'QAT', 'BWA', 'CIV', 'SRB', 'YEM', 'AUS', 'PRY', 'FJI', 'CHL', 'MCO', 'COM', 'MLI', 'TUN', 'KNA', 'VNM', 'ECU', 'VUT', 'MKD', 'GNQ', 'PNG', 'TZA', 'URY', 'KEN', 'GEO', 'RUS', 'VCT', 'SWZ', 'SMR', 'GIN', 'SEN', 'SOM', 'BOL', 'IND', 'LBY', 'MAR', 'FSM', 'MUS', 'MNE', 'RWA', 'NZL', 'SLE', 'LBR', 'GMB', 'ZAF', 'BDI', 'MMR', 'LAO', 'NGA', 'CMR', 'THA', 'STP', 'BGD', 'KHM', 'ETH', 'GTM', 'BIH', 'VEN', 'AZE', 'MLT', 'MDG', 'NAM', 'ALB', 'ARG', 'GRC', 'KOR', 'GAB', 'TJK', 'COD', 'PER', 'ATG', 'ARM', 'SLV', 'BFA', 'UGA', 'BTN', 'EGY', 'CPV', 'NPL', 'PAK', 'SUR', 'TWN', 'UZB', 'UKR', 'ZWE', 'CHN', 'BRN', 'DJI', 'HTI', 'MYS', 'BHS', 'LKA', 'ROU', 'TLS', 'TTO', 'SLB', 'LCA', 'ARE', 'AGO', 'BRA', 'IDN', 'PAN', 'SYC', 'SSD', 'KGZ', 'CRI', 'AND', 'PSE', 'WSM', 'COL', 'OMN', 'SGP', 'COG', 'HND', 'NIC', 'GUY']\n",
      "0 : ['ESP', 'LUX', 'NLD', 'BEL', 'CAN', 'EST', 'AUT', 'ISR', 'DNK', 'IRL', 'ISL', 'CYP']\n",
      "2 : ['SVK', 'HRV', 'LTU', 'LVA', 'PRT']\n",
      "4 : ['CZE', 'POL', 'BGR', 'SVN', 'HUN']\n",
      "1 : ['ITA', 'SWE', 'GBR', 'USA', 'FRA']\n",
      "\n",
      "K = 6\n",
      "3 : ['SDN', 'NER', 'MHL', 'FIN', 'GHA', 'LBN', 'MWI', 'DMA', 'KAZ', 'NOR', 'DZA', 'SAU', 'ERI', 'JAM', 'ZMB', 'MNG', 'CHE', 'PHL', 'TGO', 'CAF', 'BEN', 'IRN', 'BRB', 'TUR', 'LIE', 'MRT', 'DOM', 'GRD', 'DEU', 'SYR', 'TCD', 'LSO', 'BHR', 'KWT', 'JOR', 'MDV', 'MEX', 'GNB', 'MOZ', 'BLZ', 'BLR', 'VAT', 'MDA', 'JPN', 'AFG', 'IRQ', 'CUB', 'QAT', 'BWA', 'CIV', 'SRB', 'YEM', 'AUS', 'PRY', 'FJI', 'CHL', 'MCO', 'COM', 'MLI', 'TUN', 'KNA', 'VNM', 'ECU', 'VUT', 'MKD', 'GNQ', 'PNG', 'TZA', 'URY', 'KEN', 'GEO', 'RUS', 'VCT', 'SWZ', 'SMR', 'GIN', 'SEN', 'SOM', 'BOL', 'IND', 'LBY', 'MAR', 'FSM', 'MUS', 'MNE', 'RWA', 'NZL', 'SLE', 'LBR', 'GMB', 'ZAF', 'BDI', 'MMR', 'LAO', 'NGA', 'CMR', 'THA', 'STP', 'BGD', 'KHM', 'ETH', 'GTM', 'BIH', 'VEN', 'AZE', 'MLT', 'MDG', 'NAM', 'ALB', 'ARG', 'GRC', 'KOR', 'GAB', 'TJK', 'COD', 'PER', 'ATG', 'ARM', 'SLV', 'BFA', 'UGA', 'BTN', 'EGY', 'CPV', 'NPL', 'PAK', 'SUR', 'TWN', 'UZB', 'UKR', 'ZWE', 'CHN', 'BRN', 'DJI', 'HTI', 'MYS', 'BHS', 'LKA', 'ROU', 'TLS', 'TTO', 'SLB', 'LCA', 'ARE', 'AGO', 'BRA', 'IDN', 'PAN', 'SYC', 'SSD', 'KGZ', 'CRI', 'AND', 'PSE', 'WSM', 'COL', 'OMN', 'SGP', 'COG', 'HND', 'NIC', 'GUY']\n",
      "2 : ['ESP', 'LUX', 'BEL', 'AUT']\n",
      "0 : ['SVK', 'HRV', 'LTU', 'LVA', 'PRT']\n",
      "5 : ['NLD', 'CAN', 'EST', 'ISR', 'DNK', 'IRL', 'ISL', 'CYP']\n",
      "4 : ['CZE', 'POL', 'BGR', 'SVN', 'HUN']\n",
      "1 : ['ITA', 'SWE', 'GBR', 'USA', 'FRA']\n"
     ]
    }
   ],
   "source": [
    "klasterizacijaPoAtributu(\"hosp_patients_per_million\")"
   ]
  },
  {
   "cell_type": "code",
   "execution_count": 99,
   "metadata": {},
   "outputs": [
    {
     "name": "stdout",
     "output_type": "stream",
     "text": [
      "\n",
      "K = 4\n",
      "3 : ['SDN', 'NER', 'MHL', 'GHA', 'LBN', 'MWI', 'DMA', 'DZA', 'ERI', 'JAM', 'ZMB', 'PHL', 'TGO', 'CAF', 'BEN', 'IRN', 'BRB', 'LIE', 'MRT', 'DOM', 'ESP', 'GRD', 'DEU', 'SYR', 'TCD', 'LSO', 'MEX', 'NLD', 'GNB', 'MOZ', 'BLZ', 'BLR', 'VAT', 'MDA', 'JPN', 'AFG', 'IRQ', 'CUB', 'BWA', 'CIV', 'YEM', 'AUS', 'PRY', 'FJI', 'MCO', 'COM', 'MLI', 'TUN', 'KNA', 'VNM', 'ECU', 'VUT', 'MKD', 'GNQ', 'PNG', 'TZA', 'URY', 'KEN', 'GEO', 'VCT', 'SWZ', 'SMR', 'GIN', 'SEN', 'SOM', 'BOL', 'IND', 'LBY', 'MAR', 'FSM', 'MUS', 'MNE', 'RWA', 'NZL', 'SLE', 'LBR', 'GMB', 'ZAF', 'BDI', 'MMR', 'LAO', 'NGA', 'CMR', 'THA', 'STP', 'BGD', 'KHM', 'ETH', 'GTM', 'POL', 'BIH', 'VEN', 'BGR', 'AZE', 'MDG', 'NAM', 'ALB', 'ARG', 'KOR', 'GAB', 'TJK', 'COD', 'PER', 'ATG', 'ARM', 'SLV', 'BFA', 'UGA', 'EGY', 'CPV', 'NPL', 'PAK', 'SUR', 'TWN', 'UZB', 'UKR', 'ZWE', 'CHN', 'BRN', 'DJI', 'HTI', 'MYS', 'BHS', 'LKA', 'ROU', 'TLS', 'TTO', 'SLB', 'LCA', 'AGO', 'BRA', 'IDN', 'SYC', 'SSD', 'KGZ', 'CRI', 'AND', 'PSE', 'WSM', 'COL', 'OMN', 'SGP', 'COG', 'HND', 'NIC', 'GUY']\n",
      "1 : ['FIN', 'KAZ', 'NOR', 'SAU', 'MNG', 'CHE', 'TUR', 'BHR', 'KWT', 'JOR', 'MDV', 'BEL', 'QAT', 'SRB', 'CHL', 'HRV', 'CZE', 'RUS', 'CAN', 'EST', 'ITA', 'ISR', 'MLT', 'LTU', 'GRC', 'SWE', 'GBR', 'SVN', 'USA', 'IRL', 'BTN', 'ISL', 'LVA', 'FRA', 'PAN', 'HUN', 'PRT']\n",
      "0 : ['LUX', 'SVK', 'DNK', 'ARE', 'CYP']\n",
      "2 : ['AUT']\n",
      "\n",
      "K = 5\n",
      "3 : ['SDN', 'NER', 'MHL', 'GHA', 'LBN', 'MWI', 'DMA', 'DZA', 'ERI', 'JAM', 'ZMB', 'PHL', 'TGO', 'CAF', 'BEN', 'IRN', 'BRB', 'LIE', 'MRT', 'DOM', 'ESP', 'GRD', 'DEU', 'SYR', 'TCD', 'LSO', 'MEX', 'NLD', 'GNB', 'MOZ', 'BLZ', 'BLR', 'VAT', 'MDA', 'JPN', 'AFG', 'IRQ', 'CUB', 'BWA', 'CIV', 'YEM', 'AUS', 'PRY', 'FJI', 'MCO', 'COM', 'MLI', 'TUN', 'KNA', 'VNM', 'ECU', 'VUT', 'MKD', 'GNQ', 'PNG', 'TZA', 'URY', 'KEN', 'GEO', 'VCT', 'SWZ', 'SMR', 'GIN', 'SEN', 'SOM', 'BOL', 'IND', 'LBY', 'MAR', 'FSM', 'MUS', 'MNE', 'RWA', 'NZL', 'SLE', 'LBR', 'GMB', 'ZAF', 'BDI', 'MMR', 'LAO', 'NGA', 'CMR', 'THA', 'STP', 'BGD', 'KHM', 'ETH', 'GTM', 'POL', 'BIH', 'VEN', 'BGR', 'AZE', 'MDG', 'NAM', 'ALB', 'ARG', 'KOR', 'GAB', 'TJK', 'COD', 'PER', 'ATG', 'ARM', 'SLV', 'BFA', 'UGA', 'EGY', 'CPV', 'NPL', 'PAK', 'SUR', 'TWN', 'UZB', 'UKR', 'ZWE', 'CHN', 'BRN', 'DJI', 'HTI', 'MYS', 'BHS', 'LKA', 'ROU', 'TLS', 'TTO', 'SLB', 'LCA', 'AGO', 'BRA', 'IDN', 'SYC', 'SSD', 'KGZ', 'CRI', 'AND', 'PSE', 'WSM', 'COL', 'OMN', 'SGP', 'COG', 'HND', 'NIC', 'GUY']\n",
      "1 : ['FIN', 'KAZ', 'NOR', 'SAU', 'MNG', 'CHE', 'TUR', 'BHR', 'KWT', 'JOR', 'MDV', 'BEL', 'QAT', 'SRB', 'CHL', 'HRV', 'CZE', 'RUS', 'CAN', 'EST', 'ITA', 'ISR', 'MLT', 'LTU', 'GRC', 'SWE', 'GBR', 'SVN', 'USA', 'IRL', 'BTN', 'ISL', 'LVA', 'FRA', 'PAN', 'HUN', 'PRT']\n",
      "0 : ['LUX', 'DNK', 'ARE', 'CYP']\n",
      "4 : ['SVK']\n",
      "2 : ['AUT']\n",
      "\n",
      "K = 6\n",
      "3 : ['SDN', 'NER', 'MHL', 'GHA', 'LBN', 'MWI', 'DMA', 'DZA', 'ERI', 'JAM', 'ZMB', 'PHL', 'TGO', 'CAF', 'BEN', 'IRN', 'BRB', 'LIE', 'MRT', 'DOM', 'ESP', 'GRD', 'DEU', 'SYR', 'TCD', 'LSO', 'MEX', 'NLD', 'GNB', 'MOZ', 'BLZ', 'BLR', 'VAT', 'MDA', 'JPN', 'AFG', 'IRQ', 'CUB', 'BWA', 'CIV', 'YEM', 'AUS', 'PRY', 'FJI', 'MCO', 'COM', 'MLI', 'TUN', 'KNA', 'VNM', 'ECU', 'VUT', 'MKD', 'GNQ', 'PNG', 'TZA', 'URY', 'KEN', 'GEO', 'VCT', 'SWZ', 'SMR', 'GIN', 'SEN', 'SOM', 'BOL', 'IND', 'LBY', 'MAR', 'FSM', 'MUS', 'MNE', 'RWA', 'NZL', 'SLE', 'LBR', 'GMB', 'ZAF', 'BDI', 'MMR', 'LAO', 'NGA', 'CMR', 'THA', 'STP', 'BGD', 'KHM', 'ETH', 'GTM', 'POL', 'BIH', 'VEN', 'BGR', 'AZE', 'MDG', 'NAM', 'ALB', 'ARG', 'KOR', 'GAB', 'TJK', 'COD', 'PER', 'ATG', 'ARM', 'SLV', 'BFA', 'UGA', 'EGY', 'CPV', 'NPL', 'PAK', 'SUR', 'TWN', 'UZB', 'UKR', 'ZWE', 'CHN', 'BRN', 'DJI', 'HTI', 'MYS', 'BHS', 'LKA', 'ROU', 'TLS', 'TTO', 'SLB', 'LCA', 'AGO', 'BRA', 'IDN', 'SYC', 'SSD', 'KGZ', 'CRI', 'AND', 'PSE', 'WSM', 'COL', 'OMN', 'SGP', 'COG', 'HND', 'NIC', 'GUY']\n",
      "1 : ['FIN', 'KAZ', 'NOR', 'SAU', 'MNG', 'CHE', 'TUR', 'BHR', 'KWT', 'JOR', 'MDV', 'BEL', 'QAT', 'SRB', 'CHL', 'HRV', 'CZE', 'RUS', 'CAN', 'EST', 'ITA', 'ISR', 'MLT', 'LTU', 'GRC', 'SWE', 'GBR', 'SVN', 'USA', 'IRL', 'BTN', 'ISL', 'LVA', 'FRA', 'PAN', 'HUN', 'PRT']\n",
      "5 : ['LUX']\n",
      "4 : ['SVK']\n",
      "2 : ['AUT']\n",
      "0 : ['DNK', 'ARE', 'CYP']\n"
     ]
    }
   ],
   "source": [
    "klasterizacijaPoAtributu(\"new_tests_per_thousand\")"
   ]
  },
  {
   "cell_type": "code",
   "execution_count": 100,
   "metadata": {
    "scrolled": true
   },
   "outputs": [
    {
     "name": "stdout",
     "output_type": "stream",
     "text": [
      "\n",
      "K = 4\n",
      "0 : ['SDN', 'NER', 'GHA', 'DZA', 'SAU', 'PHL', 'IRN', 'TUR', 'ESP', 'DEU', 'MEX', 'MOZ', 'JPN', 'AFG', 'IRQ', 'CIV', 'YEM', 'AUS', 'VNM', 'TZA', 'KEN', 'CAN', 'MAR', 'ITA', 'ZAF', 'MMR', 'CMR', 'THA', 'ETH', 'POL', 'VEN', 'MDG', 'ARG', 'KOR', 'COD', 'GBR', 'PER', 'UGA', 'EGY', 'NPL', 'TWN', 'UZB', 'UKR', 'MYS', 'FRA', 'AGO', 'COL']\n",
      "1 : ['MHL', 'FIN', 'LBN', 'MWI', 'DMA', 'KAZ', 'NOR', 'ERI', 'JAM', 'ZMB', 'MNG', 'CHE', 'TGO', 'CAF', 'BEN', 'BRB', 'LIE', 'MRT', 'DOM', 'GRD', 'SYR', 'TCD', 'LSO', 'BHR', 'KWT', 'JOR', 'LUX', 'MDV', 'SVK', 'NLD', 'GNB', 'BLZ', 'BLR', 'VAT', 'MDA', 'BEL', 'CUB', 'QAT', 'BWA', 'SRB', 'PRY', 'FJI', 'CHL', 'MCO', 'HRV', 'COM', 'MLI', 'TUN', 'KNA', 'ECU', 'VUT', 'MKD', 'CZE', 'GNQ', 'PNG', 'URY', 'GEO', 'VCT', 'SWZ', 'SMR', 'GIN', 'SEN', 'SOM', 'EST', 'BOL', 'LBY', 'FSM', 'MUS', 'MNE', 'AUT', 'RWA', 'NZL', 'SLE', 'LBR', 'GMB', 'BDI', 'LAO', 'STP', 'KHM', 'GTM', 'BIH', 'ISR', 'BGR', 'AZE', 'MLT', 'NAM', 'ALB', 'LTU', 'GRC', 'SWE', 'GAB', 'TJK', 'SVN', 'ATG', 'DNK', 'ARM', 'SLV', 'BFA', 'IRL', 'BTN', 'ISL', 'CPV', 'LVA', 'SUR', 'ZWE', 'BRN', 'DJI', 'HTI', 'BHS', 'LKA', 'ROU', 'TLS', 'TTO', 'SLB', 'LCA', 'ARE', 'PAN', 'SYC', 'SSD', 'CYP', 'KGZ', 'CRI', 'AND', 'PSE', 'WSM', 'OMN', 'HUN', 'SGP', 'COG', 'HND', 'NIC', 'PRT', 'GUY']\n",
      "2 : ['RUS', 'NGA', 'BGD', 'USA', 'PAK', 'BRA', 'IDN']\n",
      "3 : ['IND', 'CHN']\n",
      "\n",
      "K = 5\n",
      "2 : ['SDN', 'NER', 'GHA', 'DZA', 'SAU', 'ESP', 'MOZ', 'AFG', 'IRQ', 'CIV', 'YEM', 'AUS', 'TZA', 'KEN', 'CAN', 'MAR', 'ITA', 'ZAF', 'MMR', 'CMR', 'THA', 'POL', 'VEN', 'MDG', 'ARG', 'KOR', 'GBR', 'PER', 'UGA', 'NPL', 'TWN', 'UZB', 'UKR', 'MYS', 'FRA', 'AGO', 'COL']\n",
      "1 : ['MHL', 'FIN', 'LBN', 'MWI', 'DMA', 'KAZ', 'NOR', 'ERI', 'JAM', 'ZMB', 'MNG', 'CHE', 'TGO', 'CAF', 'BEN', 'BRB', 'LIE', 'MRT', 'DOM', 'GRD', 'SYR', 'TCD', 'LSO', 'BHR', 'KWT', 'JOR', 'LUX', 'MDV', 'SVK', 'NLD', 'GNB', 'BLZ', 'BLR', 'VAT', 'MDA', 'BEL', 'CUB', 'QAT', 'BWA', 'SRB', 'PRY', 'FJI', 'CHL', 'MCO', 'HRV', 'COM', 'MLI', 'TUN', 'KNA', 'ECU', 'VUT', 'MKD', 'CZE', 'GNQ', 'PNG', 'URY', 'GEO', 'VCT', 'SWZ', 'SMR', 'GIN', 'SEN', 'SOM', 'EST', 'BOL', 'LBY', 'FSM', 'MUS', 'MNE', 'AUT', 'RWA', 'NZL', 'SLE', 'LBR', 'GMB', 'BDI', 'LAO', 'STP', 'KHM', 'GTM', 'BIH', 'ISR', 'BGR', 'AZE', 'MLT', 'NAM', 'ALB', 'LTU', 'GRC', 'SWE', 'GAB', 'TJK', 'SVN', 'ATG', 'DNK', 'ARM', 'SLV', 'BFA', 'IRL', 'BTN', 'ISL', 'CPV', 'LVA', 'SUR', 'ZWE', 'BRN', 'DJI', 'HTI', 'BHS', 'LKA', 'ROU', 'TLS', 'TTO', 'SLB', 'LCA', 'ARE', 'PAN', 'SYC', 'SSD', 'CYP', 'KGZ', 'CRI', 'AND', 'PSE', 'WSM', 'OMN', 'HUN', 'SGP', 'COG', 'HND', 'NIC', 'PRT', 'GUY']\n",
      "4 : ['PHL', 'IRN', 'TUR', 'DEU', 'MEX', 'JPN', 'VNM', 'ETH', 'COD', 'EGY']\n",
      "0 : ['RUS', 'NGA', 'BGD', 'USA', 'PAK', 'BRA', 'IDN']\n",
      "3 : ['IND', 'CHN']\n",
      "\n",
      "K = 6\n",
      "0 : ['SDN', 'NER', 'GHA', 'DZA', 'SAU', 'ESP', 'MOZ', 'AFG', 'IRQ', 'CIV', 'YEM', 'AUS', 'TZA', 'KEN', 'CAN', 'MAR', 'ITA', 'ZAF', 'MMR', 'CMR', 'THA', 'POL', 'VEN', 'MDG', 'ARG', 'KOR', 'GBR', 'PER', 'UGA', 'NPL', 'TWN', 'UZB', 'UKR', 'MYS', 'FRA', 'AGO', 'COL']\n",
      "1 : ['MHL', 'FIN', 'LBN', 'MWI', 'DMA', 'KAZ', 'NOR', 'ERI', 'JAM', 'ZMB', 'MNG', 'CHE', 'TGO', 'CAF', 'BEN', 'BRB', 'LIE', 'MRT', 'DOM', 'GRD', 'SYR', 'TCD', 'LSO', 'BHR', 'KWT', 'JOR', 'LUX', 'MDV', 'SVK', 'NLD', 'GNB', 'BLZ', 'BLR', 'VAT', 'MDA', 'BEL', 'CUB', 'QAT', 'BWA', 'SRB', 'PRY', 'FJI', 'CHL', 'MCO', 'HRV', 'COM', 'MLI', 'TUN', 'KNA', 'ECU', 'VUT', 'MKD', 'CZE', 'GNQ', 'PNG', 'URY', 'GEO', 'VCT', 'SWZ', 'SMR', 'GIN', 'SEN', 'SOM', 'EST', 'BOL', 'LBY', 'FSM', 'MUS', 'MNE', 'AUT', 'RWA', 'NZL', 'SLE', 'LBR', 'GMB', 'BDI', 'LAO', 'STP', 'KHM', 'GTM', 'BIH', 'ISR', 'BGR', 'AZE', 'MLT', 'NAM', 'ALB', 'LTU', 'GRC', 'SWE', 'GAB', 'TJK', 'SVN', 'ATG', 'DNK', 'ARM', 'SLV', 'BFA', 'IRL', 'BTN', 'ISL', 'CPV', 'LVA', 'SUR', 'ZWE', 'BRN', 'DJI', 'HTI', 'BHS', 'LKA', 'ROU', 'TLS', 'TTO', 'SLB', 'LCA', 'ARE', 'PAN', 'SYC', 'SSD', 'CYP', 'KGZ', 'CRI', 'AND', 'PSE', 'WSM', 'OMN', 'HUN', 'SGP', 'COG', 'HND', 'NIC', 'PRT', 'GUY']\n",
      "4 : ['PHL', 'IRN', 'TUR', 'DEU', 'MEX', 'JPN', 'VNM', 'ETH', 'COD', 'EGY']\n",
      "2 : ['RUS', 'NGA', 'BGD', 'PAK', 'BRA']\n",
      "3 : ['IND', 'CHN']\n",
      "5 : ['USA', 'IDN']\n"
     ]
    }
   ],
   "source": [
    "klasterizacijaPoAtributu(\"population\")"
   ]
  },
  {
   "cell_type": "markdown",
   "metadata": {},
   "source": [
    "# Korelacija atributa unutar jednog klastera i u razlicitim klasterima"
   ]
  },
  {
   "cell_type": "code",
   "execution_count": 101,
   "metadata": {},
   "outputs": [],
   "source": [
    "dataKlasa = dataOriginal[dataOriginal.total_cases != 0]\n",
    "dataKlasa.fillna(0, inplace=True)\n",
    "table_columns = dataKlasa.columns\n",
    "\n",
    "for drzava in lista_drzava:\n",
    "    select_color = dataKlasa.loc[dataKlasa['iso_code'] == drzava]\n",
    "    drzave[drzava] = {}\n",
    "    for col in table_columns:\n",
    "        if col in ['iso_code', 'continent', 'location', 'date', 'tests_units']:\n",
    "            continue\n",
    "        drzave[drzava][col] = select_color[col]"
   ]
  },
  {
   "cell_type": "code",
   "execution_count": 120,
   "metadata": {},
   "outputs": [],
   "source": [
    "def korelacijaAtributaUnutarIVanKlastera(klasteri, atribut1, atribut2):\n",
    "    klasteriKeys = klasteri.keys()\n",
    "    # na slucajan nacin biramo po jednu drzavu iz svakog klastera\n",
    "    randomDrzave = {}\n",
    "    brojKlastera = len(klasteriKeys)\n",
    "    for k in klasteriKeys:\n",
    "        velicinaKlastera = len(klasteri[k])\n",
    "        if velicinaKlastera == 1:\n",
    "            randomDrzave[k] = klasteri[k]\n",
    "            continue\n",
    "        d1 = random.choice(klasteri[k])\n",
    "        d2 = random.choice(klasteri[k])\n",
    "        while d1 == d2:\n",
    "            d2 = random.choice(klasteri[k])\n",
    "        \n",
    "        randomDrzave[k] = [d1, d2]\n",
    "    \n",
    "    for k, ds in randomDrzave.items():\n",
    "        print(\"K:\", k)\n",
    "        for d in ds:\n",
    "            X = np.array(drzave[d][atribut1]).reshape((-1, 1))\n",
    "            Y = np.array(drzave[d][atribut2])\n",
    "            model = LinearRegression().fit(X, Y)\n",
    "            print(\"%s: %.3f\" %(d, model.coef_))\n"
   ]
  },
  {
   "cell_type": "code",
   "execution_count": 128,
   "metadata": {},
   "outputs": [
    {
     "name": "stdout",
     "output_type": "stream",
     "text": [
      "K: 3\n",
      "GNQ: 0.000\n",
      "KEN: 24.591\n",
      "K: 1\n",
      "USA: 98.382\n",
      "RUS: 32.904\n",
      "K: 0\n",
      "SVK: 5.527\n",
      "CYP: 12.474\n",
      "K: 2\n",
      "AUT: 0.771\n"
     ]
    }
   ],
   "source": [
    "klasteri = klasterizacijaPoAtributu(\"new_tests_per_thousand\", 4)\n",
    "korelacijaAtributaUnutarIVanKlastera(klasteri, \"new_tests_per_thousand\", \"new_cases_per_million\")"
   ]
  },
  {
   "cell_type": "code",
   "execution_count": 129,
   "metadata": {},
   "outputs": [
    {
     "name": "stdout",
     "output_type": "stream",
     "text": [
      "K: 0\n",
      "MYS: 56.612\n",
      "UZB: 0.000\n",
      "K: 1\n",
      "CZE: 146.047\n",
      "JAM: 30.822\n",
      "K: 2\n",
      "IDN: 122.517\n",
      "NGA: 43.775\n",
      "K: 3\n",
      "CHN: 0.000\n",
      "IND: 47.043\n"
     ]
    }
   ],
   "source": [
    "klasteri = klasterizacijaPoAtributu(\"population\", 4)\n",
    "korelacijaAtributaUnutarIVanKlastera(klasteri, \"new_tests_per_thousand\", \"new_cases_per_million\")"
   ]
  },
  {
   "cell_type": "code",
   "execution_count": null,
   "metadata": {},
   "outputs": [],
   "source": []
  },
  {
   "cell_type": "code",
   "execution_count": null,
   "metadata": {},
   "outputs": [],
   "source": []
  }
 ],
 "metadata": {
  "kernelspec": {
   "display_name": "Python 3",
   "language": "python",
   "name": "python3"
  },
  "language_info": {
   "codemirror_mode": {
    "name": "ipython",
    "version": 3
   },
   "file_extension": ".py",
   "mimetype": "text/x-python",
   "name": "python",
   "nbconvert_exporter": "python",
   "pygments_lexer": "ipython3",
   "version": "3.7.6"
  }
 },
 "nbformat": 4,
 "nbformat_minor": 4
}
